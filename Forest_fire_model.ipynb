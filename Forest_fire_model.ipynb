{
 "cells": [
  {
   "cell_type": "markdown",
   "metadata": {},
   "source": [
    "# <span style=\"font-family:Courier New; color:#CCCCCC\">**Pràctica 3: CA & Heuristics**</span>"
   ]
  },
  {
   "cell_type": "code",
   "execution_count": 57,
   "metadata": {},
   "outputs": [],
   "source": [
    "from ForestFireCA import ForestFireCA\n",
    "from matplotlib.animation import FuncAnimation\n",
    "from matplotlib.colors import ListedColormap\n",
    "import matplotlib.pyplot as plt"
   ]
  },
  {
   "cell_type": "markdown",
   "metadata": {},
   "source": [
    "## <span style=\"font-family:Courier New; color:#336666\">**Forest Fire CA model**</span>"
   ]
  },
  {
   "cell_type": "code",
   "execution_count": 58,
   "metadata": {},
   "outputs": [],
   "source": [
    "forest_fire = ForestFireCA(rows = 15, columns = 15, random_state=42)\n",
    "steps = forest_fire.simulate(t = 75, layer='fire')"
   ]
  },
  {
   "cell_type": "code",
   "execution_count": 52,
   "metadata": {},
   "outputs": [
    {
     "name": "stderr",
     "output_type": "stream",
     "text": [
      "MovieWriter Pillow unavailable; using Pillow instead.\n"
     ]
    }
   ],
   "source": [
    "def visualize(steps):\n",
    "\n",
    "    fig, ax = plt.subplots(figsize=(10, 10))\n",
    "    cmap_custom = ListedColormap(['black', 'white', '#FF4500'])\n",
    "\n",
    "    def update(i):\n",
    "        plt.imshow(steps[i], cmap=cmap_custom, interpolation='nearest', vmin=-1, vmax=1)\n",
    "        ax.set_axis_off()\n",
    "\n",
    "    anim = FuncAnimation(fig, update, frames=range(len(steps)), interval=200, repeat = False)\n",
    "    anim.save('fire_propagation.gif', dpi=80, writer='Pillow')\n",
    "    plt.close()\n",
    "visualize(steps)"
   ]
  }
 ],
 "metadata": {
  "kernelspec": {
   "display_name": "Python 3",
   "language": "python",
   "name": "python3"
  },
  "language_info": {
   "codemirror_mode": {
    "name": "ipython",
    "version": 3
   },
   "file_extension": ".py",
   "mimetype": "text/x-python",
   "name": "python",
   "nbconvert_exporter": "python",
   "pygments_lexer": "ipython3",
   "version": "3.10.10"
  }
 },
 "nbformat": 4,
 "nbformat_minor": 2
}
