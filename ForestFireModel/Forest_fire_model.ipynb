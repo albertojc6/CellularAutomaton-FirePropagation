{
 "cells": [
  {
   "cell_type": "markdown",
   "metadata": {},
   "source": [
    "# <span style=\"font-family:Courier New; color:#CCCCCC\">**Pràctica 3: CA & Heuristics**</span>"
   ]
  },
  {
   "cell_type": "code",
   "execution_count": 1,
   "metadata": {},
   "outputs": [
    {
     "name": "stdout",
     "output_type": "stream",
     "text": [
      "pygame 2.5.2 (SDL 2.28.3, Python 3.10.10)\n",
      "Hello from the pygame community. https://www.pygame.org/contribute.html\n"
     ]
    }
   ],
   "source": [
    "from ForestFireCA import ForestFireCA\n",
    "from matplotlib.animation import FuncAnimation\n",
    "from matplotlib.colors import ListedColormap\n",
    "import matplotlib.pyplot as plt\n",
    "import numpy as np\n",
    "import pygame"
   ]
  },
  {
   "cell_type": "code",
   "execution_count": 2,
   "metadata": {},
   "outputs": [],
   "source": [
    "def visualize_gif(steps, layer = 'fire', size = 20, name = None):\n",
    "    if name is None: name = f'{layer}_propagation.gif'\n",
    "    fig, ax = plt.subplots(figsize=(size, size))\n",
    "    if layer == 'fire':\n",
    "        cmap = ListedColormap(['black', 'white', '#FF4500'])\n",
    "    elif layer == 'humidity':\n",
    "        cmap = plt.cm.Blues\n",
    "    elif layer == 'fuel':\n",
    "        cmap = plt.cm.Greens\n",
    "    \n",
    "    max_value = np.max(steps)\n",
    "    \n",
    "    def update(i):\n",
    "        if layer == 'fire':\n",
    "            plt.imshow(steps[i], cmap=cmap, interpolation='nearest', vmin=-1, vmax=1)\n",
    "        else:\n",
    "            plt.imshow(steps[i], cmap=cmap, interpolation='nearest', vmin=0, vmax=max_value)\n",
    "        ax.set_axis_off()\n",
    "\n",
    "    anim = FuncAnimation(fig, update, frames=range(len(steps)), interval=200, repeat=False)\n",
    "    anim.save(name, dpi=80, writer='Pillow')\n",
    "    plt.close()"
   ]
  },
  {
   "cell_type": "code",
   "execution_count": 3,
   "metadata": {},
   "outputs": [],
   "source": [
    "def visualize_realtime(steps, layer = 'fire', step_time = 100):\n",
    "    \"\"\"\n",
    "    steps: [List]: Returned by simulate function of the automata.\n",
    "    layer: [str]: Layer correspondant to the steps introduced.\n",
    "    step_time: [int]: Time in ms elapsed between simulation steps.\n",
    "    \"\"\"\n",
    "\n",
    "    # Initialize pygame\n",
    "    pygame.init()\n",
    "    screen = pygame.display.set_mode((1000, 1000))\n",
    "    pygame.display.set_caption(\"Forest Fire\")\n",
    "\n",
    "    # Colors\n",
    "    black = (0, 0, 0)\n",
    "    white = (255, 255, 255)\n",
    "    red = (255, 69, 0)\n",
    "    colors = {'fire': {-1: black, 0: white, 1: red}}\n",
    "    \n",
    "    min_value = np.min(steps)\n",
    "    max_value = np.max(steps)\n",
    "\n",
    "    def get_color(value, layer):\n",
    "        if layer == 'humidity':\n",
    "            if value == 0:\n",
    "                return white\n",
    "            return (0, 0, 255 - (int((value-min_value) / (max_value - min_value) * 255)))\n",
    "        elif layer == 'fuel':\n",
    "            if value == 0:\n",
    "                return white\n",
    "            return (0, 255 - (int((value - min_value) / (max_value - min_value) * 255)), 0)\n",
    "        else:\n",
    "            return colors[layer][value]\n",
    "\n",
    "    # Loop through each step\n",
    "    for step in steps:\n",
    "        for event in pygame.event.get():\n",
    "            if event.type == pygame.QUIT:\n",
    "                pygame.quit()\n",
    "                return\n",
    "\n",
    "        # Draw the grid\n",
    "        for i in range(100):\n",
    "            for j in range(100):\n",
    "                color = get_color(step[i, j], layer)\n",
    "                pygame.draw.rect(screen, color, (10 * j, 10 * i, 10, 10))\n",
    "\n",
    "        pygame.display.flip()\n",
    "        pygame.time.wait(step_time)\n",
    "\n",
    "    # Wait for user to close window\n",
    "    while True:\n",
    "        for event in pygame.event.get():\n",
    "            if event.type == pygame.QUIT:\n",
    "                pygame.quit()\n",
    "                return"
   ]
  },
  {
   "cell_type": "markdown",
   "metadata": {},
   "source": [
    "## <span style=\"font-family:Courier New; color:#336666\">**Forest Fire CA model**</span>"
   ]
  },
  {
   "cell_type": "markdown",
   "metadata": {},
   "source": [
    "### <span style=\"font-family:Courier New; color:#336633\">**Initial State**</span>"
   ]
  },
  {
   "cell_type": "code",
   "execution_count": 8,
   "metadata": {},
   "outputs": [],
   "source": [
    "forest_fire = ForestFireCA(rows = 100, columns = 100, random_state = 42)\n",
    "init_fire, init_fuel, inti_humidity = forest_fire.simulate(t = 0)"
   ]
  },
  {
   "cell_type": "code",
   "execution_count": null,
   "metadata": {},
   "outputs": [],
   "source": [
    "visualize_gif(init_fire, layer = 'fire', name = 'initial_fire.gif')\n",
    "visualize_gif(init_fuel, layer = 'fuel', name = 'initial_fuel.gif')\n",
    "visualize_gif(inti_humidity, layer = 'humidity', name = 'initial_humidity.gif')"
   ]
  },
  {
   "cell_type": "markdown",
   "metadata": {},
   "source": [
    "<div style=\"display: flex; justify-content: space-around;\">\n",
    "    <img src=\"initial_states/initial_fire.gif\" width=\"400\">\n",
    "    <img src=\"initial_states/initial_humidity.gif\" width=\"400\">\n",
    "    <img src=\"initial_states/initial_fuel.gif\" width=\"400\">\n",
    "</div>"
   ]
  },
  {
   "cell_type": "markdown",
   "metadata": {},
   "source": [
    "### <span style=\"font-family:Courier New; color:#336633\">**Simulation with 100 steps**</span>"
   ]
  },
  {
   "cell_type": "code",
   "execution_count": 4,
   "metadata": {},
   "outputs": [],
   "source": [
    "forest_fire = ForestFireCA(rows = 100, columns = 100, random_state = 42)\n",
    "steps_fire, steps_fuel, steps_humidity = forest_fire.simulate(t = 100)"
   ]
  },
  {
   "cell_type": "code",
   "execution_count": null,
   "metadata": {},
   "outputs": [],
   "source": [
    "visualize_gif(steps_fire, layer = 'fire', name = 'fire_propagation.gif')\n",
    "visualize_gif(steps_fuel, layer = 'fuel', name = 'fuel_propagation.gif')\n",
    "visualize_gif(steps_humidity, layer = 'humidity', name = 'humidity_propagation.gif')"
   ]
  },
  {
   "cell_type": "markdown",
   "metadata": {},
   "source": [
    "<div style=\"display: flex; justify-content: space-around;\">\n",
    "    <img src='layer_evolutions/fire_propagation.gif' width=\"400\">\n",
    "    <img src='layer_evolutions/humidity_propagation.gif' width=\"400\">\n",
    "    <img src='layer_evolutions/fuel_propagation.gif' width=\"400\">\n",
    "</div>"
   ]
  },
  {
   "cell_type": "markdown",
   "metadata": {},
   "source": [
    "### <span style=\"font-family:Courier New; color:#336633\">**Simulation until end**</span>"
   ]
  },
  {
   "cell_type": "code",
   "execution_count": null,
   "metadata": {},
   "outputs": [],
   "source": [
    "steps_fire, steps_fuel, steps_humidity = forest_fire.simulate(t = 450)"
   ]
  },
  {
   "cell_type": "markdown",
   "metadata": {},
   "source": [
    "<div style=\"display: flex; justify-content: space-around;\">\n",
    "    <img src='layer_evolutions/fire_evolution.gif' width=\"400\">\n",
    "</div>"
   ]
  },
  {
   "cell_type": "code",
   "execution_count": 14,
   "metadata": {},
   "outputs": [],
   "source": [
    "visualize_realtime(steps_fuel, layer = 'fuel', step_time = 450) #Visualize layer fire in real time, time gap between steps is 300ms"
   ]
  },
  {
   "cell_type": "code",
   "execution_count": null,
   "metadata": {},
   "outputs": [],
   "source": [
    "visualize_realtime(steps_humidity, layer = 'humidity', step_time = 450) #Visualize layer fire in real time, time gap between steps is 300ms"
   ]
  }
 ],
 "metadata": {
  "kernelspec": {
   "display_name": "Python 3",
   "language": "python",
   "name": "python3"
  },
  "language_info": {
   "codemirror_mode": {
    "name": "ipython",
    "version": 3
   },
   "file_extension": ".py",
   "mimetype": "text/x-python",
   "name": "python",
   "nbconvert_exporter": "python",
   "pygments_lexer": "ipython3",
   "version": "3.10.10"
  }
 },
 "nbformat": 4,
 "nbformat_minor": 2
}
