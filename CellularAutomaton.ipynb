{
 "cells": [
  {
   "cell_type": "markdown",
   "metadata": {},
   "source": [
    "# <span style=\"font-family:Courier New; color:#CCCCCC\">**Pràctica 3: CA & Heuristics**</span>"
   ]
  },
  {
   "cell_type": "code",
   "execution_count": 1,
   "metadata": {},
   "outputs": [],
   "source": [
    "import numpy as np\n",
    "import matplotlib.pyplot as plt"
   ]
  },
  {
   "cell_type": "markdown",
   "metadata": {},
   "source": [
    "## <span style=\"font-family:Courier New; color:#336666\">**Elementary CA with Wolfram Rules**</span>"
   ]
  },
  {
   "cell_type": "code",
   "execution_count": 12,
   "metadata": {},
   "outputs": [],
   "source": [
    "class Wolfram_CA:\n",
    "\n",
    "    def __init__(self, rule_number, state_len = 101):\n",
    "        \"\"\"\n",
    "        Inicialització d'un autòmata cel·lular de Wolfram.\n",
    "        \n",
    "        :param rule_number: Nombre de la regla de Wolfram (entre 0 y 255).\n",
    "        \"\"\"\n",
    "        self._state_len = state_len if state_len % 2 == 1 else state_len + 1 #forçem a que sigui imparell, per tenir un centre definit\n",
    "        self._initial_state = np.zeros(self._state_len, dtype=int)\n",
    "        self._initial_state[state_len // 2] = 1  # estat inicial amb una cel·la activa al centre de l'espai\n",
    "        self._update_function = self._get_rule_function(rule_number)\n",
    "\n",
    "    def _get_rule_function(self, rule_number):\n",
    "        \"\"\"\n",
    "        Mètode per extreure la funció d'actualització correponent a la regla 'rule_number'.\n",
    "        \n",
    "        :param rule_number: Nombre de la regla de Wolfram (entre 0 y 255).\n",
    "        \"\"\"\n",
    "\n",
    "        # Convertir el rule_number a una representació binària de 8 bits\n",
    "        rule_binary = format(rule_number, '08b')\n",
    "\n",
    "        def update_function(left, center, right):\n",
    "            return int(rule_binary[7 - (left * 4 + center * 2 + right)])\n",
    "        \n",
    "        return update_function\n",
    "    \n",
    "    def simulate(self, num_steps):\n",
    "        \"\"\"\n",
    "        Mètode per dur a terme una simulació de l'CA amb regla de Wolfram 'rule_number'.\n",
    "\n",
    "        :param num_steps: Nombre de generacions de l'autòmata, o bé el temps de simulació\n",
    "        :return: Llista d'estats de l'autòmata cel·lular al llarg de les generacions.\n",
    "        \"\"\"\n",
    "\n",
    "        states = np.zeros((num_steps, self._state_len), dtype=int)\n",
    "        # Configurar l'estat inicial\n",
    "        states[0, :] = self._initial_state\n",
    "\n",
    "        for step in range(1, num_steps):\n",
    "            for i in range(self._state_len):\n",
    "            \n",
    "                left = states[step - 1, (i - 1) % self._state_len]\n",
    "                center = states[step - 1, i]\n",
    "                right = states[step - 1, (i + 1) % self._state_len]\n",
    "                # Regla de Wolfram\n",
    "                states[step, i] = self._update_function(left, center, right)\n",
    "    \n",
    "        return states"
   ]
  },
  {
   "cell_type": "code",
   "execution_count": 13,
   "metadata": {},
   "outputs": [],
   "source": [
    "def plot_automaton(states):\n",
    "    \"\"\"\n",
    "    Visualiza l'autòmata cel·lular al llarg de las generaciones.\n",
    "    \n",
    "    :param states: Llista d'estats de l'autòmata cel·lular.\n",
    "    \"\"\"\n",
    "    plt.figure(figsize=(10, 6))\n",
    "    plt.imshow(states, cmap='binary', interpolation='nearest')\n",
    "    plt.xlabel('Cell')\n",
    "    plt.ylabel('Generació')\n",
    "    plt.show()"
   ]
  },
  {
   "cell_type": "code",
   "execution_count": 14,
   "metadata": {},
   "outputs": [
    {
     "data": {
      "image/png": "[encoded data removed]",
      "text/plain": [
       "<Figure size 1000x600 with 1 Axes>"
      ]
     },
     "metadata": {},
     "output_type": "display_data"
    }
   ],
   "source": [
    "#Exemple d'ús\n",
    "CA_45 = Wolfram_CA(rule_number=45)\n",
    "states = CA_45.simulate(num_steps=50)\n",
    "\n",
    "plot_automaton(states)"
   ]
  },
  {
   "cell_type": "markdown",
   "metadata": {},
   "source": [
    "### <span style=\"font-family:Courier New; color:#336633\">**Multilayer Wolfram's CA**</span>"
   ]
  },
  {
   "cell_type": "code",
   "execution_count": 20,
   "metadata": {},
   "outputs": [],
   "source": [
    "class Multilayer_Wolfram_CA:\n",
    "\n",
    "    def __init__(self, layers_rules, state_len = 101, comb_f = np.bitwise_and.reduce):\n",
    "        \"\"\"\n",
    "        Inicialització d'un autòmata cel·lular multicapa de Wolfram -> len(layers_rules): 1-AC.\n",
    "        \n",
    "        :param layers_rules: Llista amb els nombres de les regles de Wolfram (entre 0 y 255) de cada capa.\n",
    "        :param comb_f: funció de combinació dels estats de cada capa.\n",
    "        \"\"\"\n",
    "        self._m = len(layers_rules)\n",
    "        self._CAs = [Wolfram_CA(rule_number, state_len = state_len) for rule_number in layers_rules]\n",
    "        self._comb_f = comb_f\n",
    "\n",
    "    def simulate(self, num_steps):\n",
    "        \"\"\"\n",
    "        Mètode per dur a terme una simulació de l'CA amb regla de Wolfram 'rule_number'.\n",
    "\n",
    "        :param num_steps: Nombre de generacions de l'autòmata, o bé el temps de simulació\n",
    "        :return: Llista d'estats de l'autòmata cel·lular al llarg de les generacions.\n",
    "        \"\"\"\n",
    "\n",
    "        states = [wolfram_CA.simulate(num_steps) for wolfram_CA in self._CAs]\n",
    "        comb = self._comb_f(states)\n",
    "        \n",
    "        return comb"
   ]
  },
  {
   "cell_type": "code",
   "execution_count": 37,
   "metadata": {},
   "outputs": [
    {
     "data": {
      "image/png": "[encoded data removed]",
      "text/plain": [
       "<Figure size 1000x600 with 1 Axes>"
      ]
     },
     "metadata": {},
     "output_type": "display_data"
    }
   ],
   "source": [
    "multilayer_CA = Multilayer_Wolfram_CA([30, 90, 110], state_len=101, comb_f=np.bitwise_and.reduce)\n",
    "final_states = multilayer_CA.simulate(num_steps=50)\n",
    "plot_automaton(final_states)"
   ]
  }
 ],
 "metadata": {
  "kernelspec": {
   "display_name": "Python 3",
   "language": "python",
   "name": "python3"
  },
  "language_info": {
   "codemirror_mode": {
    "name": "ipython",
    "version": 3
   },
   "file_extension": ".py",
   "mimetype": "text/x-python",
   "name": "python",
   "nbconvert_exporter": "python",
   "pygments_lexer": "ipython3",
   "version": "3.10.10"
  }
 },
 "nbformat": 4,
 "nbformat_minor": 2
}
